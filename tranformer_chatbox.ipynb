{
 "cells": [
  {
   "cell_type": "markdown",
   "metadata": {},
   "source": [
    "# 🤖💬 Chatbot inteligente para geração de respostas em linguagem pt-br\n",
    "\n",
    "Este projeto utiliza o modelo **PTT5 (Portuguese T5)**, uma adaptação do modelo **T5 (Text-to-Text Transfer Transformer)** para a língua portuguesa.\n",
    "\n",
    "- 📐 **Arquitetura:** baseada no Transformer, com codificador e decodificador (encoder-decoder).\n",
    "- 🧠 **Capacidade:** compreende instruções em linguagem natural e gera respostas coerentes e contextualizadas.\n",
    "- 📚 **Aprendizado:** usa fine-tuning sobre dados em português via aprendizado por transferência.\n",
    "- 🛠️ **Base:** modelo `unicamp-dl/ptt5-base-portuguese-vocab`.\n",
    "\n",
    "\n",
    "> ⚠️ dataset.csv, requirements.txt incluídas no repositório"
   ]
  },
  {
   "cell_type": "markdown",
   "metadata": {},
   "source": [
    "## 🧰 Parte 1: Ambiente e dependências\n",
    "\n",
    "Nesta seção, definimos o ambiente necessário para executar o projeto, garantindo que todas as bibliotecas estejam corretamente instaladas e compatíveis com o modelo utilizado.\n",
    "\n",
    "As etapas abaixo cobrem:\n",
    "\n",
    "- Especificação da versão do Python e sistema operacional\n",
    "- Organização do ambiente virtual (Conda recomendado)\n",
    "- Instalação das dependências via `pip` ou `requirements.txt`\n",
    "- Registro das bibliotecas utilizadas no desenvolvimento\n",
    "\n",
    "> ⚠️ Ter um ambiente reprodutível é essencial para evitar conflitos de versão e garantir que o modelo funcione como esperado.\n",
    "\n"
   ]
  },
  {
   "cell_type": "markdown",
   "metadata": {},
   "source": [
    "⚙️ 1.1: Ambiente e dependências utilizadas\n",
    "\n",
    "O modelo foi treinado e executado em um ambiente com a seguinte configuração:\n",
    "\n",
    "- 🐍 **Python**: 3.9.x (via Anaconda) \n",
    "- 💻 **Sistema Operacional**: Windows (compatível também com Linux)  \n",
    "- 🧪 **Ambiente virtual**: criado com o **Conda**"
   ]
  },
  {
   "cell_type": "markdown",
   "metadata": {},
   "source": [
    "📦 1.2: Bibliotecas essenciais\n",
    "\n",
    "!pip install transformers==4.37.2\n",
    "!pip install datasets==2.16.1\n",
    "!pip install pandas==2.1.4\n",
    "!pip install torch==2.1.0"
   ]
  },
  {
   "cell_type": "markdown",
   "metadata": {},
   "source": [
    "🗃️ 1.3: Instalação das dependências\n",
    "\n",
    "Caso queira utilizar todas as bibliotecas que foram utilizadas utilize o arquivo `requirements.txt`. Para instalar, ative o ambiente Conda desejado e execute:\n",
    "\n",
    "\n",
    "```bash\n",
    "pip install -r requirements.txt"
   ]
  },
  {
   "cell_type": "markdown",
   "metadata": {},
   "source": [
    "---\n",
    "\n",
    "## 🏋️‍♂️ Parte 2: Treinamento do modelo PTT5 com dados personalizados\n",
    "\n",
    "Nesta seção, executamos todas as etapas relacionadas ao **processo de fine-tuning do modelo PTT5** em português, utilizando um dataset customizado.\n",
    "\n",
    "As etapas abaixo cobrem:\n",
    "\n",
    "- Importação de bibliotecas\n",
    "- Carregamento e preparação do modelo\n",
    "- Processamento e tokenização dos dados\n",
    "- Definição de argumentos de treinamento\n",
    "- Execução do treinamento com monitoramento de loss\n",
    "- Salvamento do modelo final e uso para inferência\n"
   ]
  },
  {
   "cell_type": "markdown",
   "metadata": {},
   "source": [
    "💻 Etapa 2.1: Importação das bibliotecas\n",
    "\n",
    "        Importamos os módulos essenciais para manipular dados, preparar o modelo e realizar o treinamento com Transformers.\n",
    "\n"
   ]
  },
  {
   "cell_type": "code",
   "execution_count": null,
   "metadata": {},
   "outputs": [],
   "source": [
    "from transformers import T5Tokenizer, T5ForConditionalGeneration, Trainer, TrainingArguments, TrainerCallback\n",
    "from datasets import Dataset\n",
    "import pandas as pd\n",
    "import torch"
   ]
  },
  {
   "cell_type": "markdown",
   "metadata": {},
   "source": [
    "📘 Etapa 2.2: Callback para monitorar a perda por época\n",
    "\n",
    "        Esta função imprime a loss ao final de cada época durante o treinamento.\n"
   ]
  },
  {
   "cell_type": "code",
   "execution_count": null,
   "metadata": {},
   "outputs": [],
   "source": [
    "class EpochLossPrinterCallback(TrainerCallback):\n",
    "    def on_epoch_end(self, args, state, control, **kwargs):\n",
    "        print(f\"\\n📘 [Época {int(state.epoch)}] Loss de Treinamento: {state.log_history[-1]['loss']:.4f}\")\n"
   ]
  },
  {
   "cell_type": "markdown",
   "metadata": {},
   "source": [
    "📥 Etapa 2.3: Carregando o modelo PTT5 e o tokenizer\n",
    "\n",
    "        Utilizamos a versão base do modelo T5 treinado em português pela Unicamp.\n"
   ]
  },
  {
   "cell_type": "code",
   "execution_count": null,
   "metadata": {},
   "outputs": [],
   "source": [
    "model_name = \"unicamp-dl/ptt5-base-portuguese-vocab\"\n",
    "tokenizer = T5Tokenizer.from_pretrained(model_name)\n",
    "model = T5ForConditionalGeneration.from_pretrained(model_name)"
   ]
  },
  {
   "cell_type": "markdown",
   "metadata": {},
   "source": [
    "📥 Etapa 2.4: Carregando e preparando o dataset CSV\n",
    "\n",
    "        Unificamos as colunas do dataset em uma entrada textual formatada para o modelo.\n"
   ]
  },
  {
   "cell_type": "code",
   "execution_count": null,
   "metadata": {},
   "outputs": [],
   "source": [
    "df = pd.read_csv(\"dataset.csv\")\n",
    "df[\"input_text\"] = \"tópico: \" + df[\"topic\"] + \" | instrução: \" + df[\"instruction\"]\n",
    "df[\"target_text\"] = df[\"output\"]"
   ]
  },
  {
   "cell_type": "markdown",
   "metadata": {},
   "source": [
    "📚 Etapa 2.5: Transformação do DataFrame em um objeto Dataset \n",
    "\n",
    "        Transformamos o DataFrame em um objeto Dataset para integração com o `Trainer`."
   ]
  },
  {
   "cell_type": "code",
   "execution_count": null,
   "metadata": {},
   "outputs": [],
   "source": [
    "dataset = Dataset.from_pandas(df[[\"input_text\", \"target_text\"]])"
   ]
  },
  {
   "cell_type": "markdown",
   "metadata": {},
   "source": [
    "🧩 Etapa 2.6: Tokenização dos dados\n",
    "\n",
    "        Aplicamos truncamento, padding e preparamos os pares entrada/saída para o treinamento."
   ]
  },
  {
   "cell_type": "code",
   "execution_count": null,
   "metadata": {},
   "outputs": [],
   "source": [
    "def tokenize(batch):\n",
    "    input_enc = tokenizer(batch[\"input_text\"], truncation=True, padding=\"max_length\", max_length=128)\n",
    "    target_enc = tokenizer(batch[\"target_text\"], truncation=True, padding=\"max_length\", max_length=128)\n",
    "    input_enc[\"labels\"] = target_enc[\"input_ids\"]\n",
    "    return input_enc\n",
    "\n",
    "tokenized_dataset = dataset.map(tokenize, batched=True)"
   ]
  },
  {
   "cell_type": "markdown",
   "metadata": {},
   "source": [
    "📘 Etapa 2.7: Configuração dos hiperparâmetros de treinamento\n",
    "\n",
    "        Definimos estratégia de salvamento, taxa de aprendizado, uso de FP16 e número de épocas.\n"
   ]
  },
  {
   "cell_type": "code",
   "execution_count": null,
   "metadata": {},
   "outputs": [],
   "source": [
    "training_args = TrainingArguments(\n",
    "    output_dir=\"./ptt5-modelo-treinado\",       # Pasta onde os checkpoints do modelo serão salvos\n",
    "    overwrite_output_dir=True,                 # Sobrescreve a pasta de saída se ela já existir\n",
    "    per_device_train_batch_size=30,            # Tamanho do batch por dispositivo (ex: GPU) durante o treinamento\n",
    "    gradient_accumulation_steps=2,             # Acumula gradientes por 2 batches antes de atualizar os pesos (simula batch_size=60)\n",
    "    learning_rate=3e-4,                        # Taxa de aprendizado inicial (valor relativamente alto, ideal para fine-tuning)\n",
    "    num_train_epochs=30,                       # Número total de épocas de treinamento (passadas completas pelo dataset)\n",
    "    save_strategy=\"epoch\",                     # Salva um checkpoint do modelo ao final de cada época\n",
    "    weight_decay=0.005,                        # Taxa de decaimento dos pesos (regularização para evitar overfitting)\n",
    "    warmup_steps=100,                          # Número de steps com aprendizado mais suave no início (warm-up)\n",
    "    logging_steps=10,                          # Frequência (em steps) com que as métricas de treino serão logadas no console\n",
    "    fp16=torch.cuda.is_available(),            # Ativa treinamento em precisão mista (FP16) se houver GPU compatível (mais rápido e leve)\n",
    "    report_to=\"none\",                          # Desativa integração com sistemas de logging externos (ex: TensorBoard, WandB)\n",
    "    save_total_limit=3                         # Mantém no máximo 3 checkpoints salvos no disco (os mais recentes)\n",
    ")\n"
   ]
  },
  {
   "cell_type": "markdown",
   "metadata": {},
   "source": [
    "⚙️ Etapa 2.8: Inicialização do Trainer\n",
    "\n",
    "        Instanciamos o `Trainer` com o modelo, os dados tokenizados e o callback para logging da loss.\n"
   ]
  },
  {
   "cell_type": "code",
   "execution_count": null,
   "metadata": {},
   "outputs": [],
   "source": [
    "trainer = Trainer(\n",
    "    model=model,                               # Modelo PTT5 carregado e pronto para ser treinado\n",
    "    args=training_args,                        # Conjunto de argumentos de treinamento definidos anteriormente (TrainingArguments)\n",
    "    train_dataset=tokenized_dataset,           # Dataset já tokenizado que será usado para o treinamento\n",
    "    callbacks=[EpochLossPrinterCallback()]     # Lista de callbacks personalizados; neste caso, imprime a loss ao final de cada época\n",
    ")\n"
   ]
  },
  {
   "cell_type": "markdown",
   "metadata": {},
   "source": [
    "🚀 Etapa 2.9: Início do treinamento\n",
    "\n",
    "        Executamos o fine-tuning do modelo com os dados fornecidos.\n"
   ]
  },
  {
   "cell_type": "code",
   "execution_count": null,
   "metadata": {},
   "outputs": [],
   "source": [
    "trainer.train()"
   ]
  },
  {
   "cell_type": "markdown",
   "metadata": {},
   "source": [
    "💾 Etapa 2.10: Salvando o modelo e o tokenizer treinados\n",
    "\n",
    "        Após o treinamento, salvamos o modelo fine-tunado e seu tokenizer para uso posterior em inferência.\n"
   ]
  },
  {
   "cell_type": "code",
   "execution_count": null,
   "metadata": {},
   "outputs": [],
   "source": [
    "model.save_pretrained(\"./ptt5-modelo-final\")\n",
    "tokenizer.save_pretrained(\"./ptt5-modelo-final\")"
   ]
  },
  {
   "cell_type": "markdown",
   "metadata": {},
   "source": [
    "---\n",
    "\n",
    "## 💬 Parte 3: Uso do modelo treinado para geração de respostas\n",
    "\n",
    "Com o modelo PTT5 já treinado e salvo, esta seção aborda as etapas necessárias para utilizá-lo em tempo de execução.\n",
    "\n",
    "Aqui, veremos:\n",
    "\n",
    "- Como **carregar o modelo salvo** e seu tokenizer\n",
    "- Definir uma função `responder()` que gere respostas a partir de perguntas em linguagem natural\n",
    "- Realizar **testes práticos com perguntas reais** simulando um chatbot\n",
    "- Explorar diferentes configurações de geração, como `temperature`, `top_k` e `top_p`\n",
    "\n",
    "> 📌 Esta seção é fundamental para validar a performance prática do modelo após o fine-tuning.\n"
   ]
  },
  {
   "cell_type": "markdown",
   "metadata": {},
   "source": [
    "🔁 Etapa 3.1: Carregando o modelo final para uso\n",
    "\n",
    "        Agora vamos utilizar o modelo PTT5 fine-tunado para responder perguntas reais em português."
   ]
  },
  {
   "cell_type": "code",
   "execution_count": null,
   "metadata": {},
   "outputs": [],
   "source": [
    "from transformers import T5Tokenizer, T5ForConditionalGeneration\n",
    "\n",
    "# Caminho para o modelo salvo\n",
    "model_dir = \"./ptt5-modelo-final\"\n",
    "\n",
    "# Carregando o tokenizer e o modelo\n",
    "tokenizer = T5Tokenizer.from_pretrained(model_dir)\n",
    "model = T5ForConditionalGeneration.from_pretrained(model_dir)"
   ]
  },
  {
   "cell_type": "markdown",
   "metadata": {},
   "source": [
    "📘 Etapa 3.2: Função para geração de respostas\n",
    "\n",
    "        Criamos uma função `responder()` que recebe uma instrução e retorna uma resposta gerada pelo modelo.\n"
   ]
  },
  {
   "cell_type": "code",
   "execution_count": null,
   "metadata": {},
   "outputs": [],
   "source": [
    "def responder(pergunta):\n",
    "    # Concatena o prefixo \"instrução: \" com a pergunta do usuário (formato usado no treinamento do modelo)\n",
    "    entrada = \"instrução: \" + pergunta\n",
    "\n",
    "    # Tokeniza a entrada textual para o formato aceito pelo modelo\n",
    "    inputs = tokenizer(\n",
    "        entrada,                 # Texto de entrada para o modelo\n",
    "        return_tensors=\"pt\",     # Retorna tensores do PyTorch\n",
    "        truncation=True,         # Trunca o texto se ultrapassar o limite máximo\n",
    "        padding=True,            # Aplica padding para atingir o tamanho fixo\n",
    "        max_length=128           # Define o tamanho máximo da sequência de entrada\n",
    "    )\n",
    "\n",
    "    # Gera a saída textual usando o modelo treinado\n",
    "    outputs = model.generate(\n",
    "        **inputs,                # Passa os tensores tokenizados como entrada\n",
    "        max_length=64,           # Limita o tamanho da resposta gerada\n",
    "        do_sample=True,          # Ativa amostragem aleatória (mais criativo)\n",
    "        top_k=50,                # Considera apenas os 50 tokens mais prováveis (Top-K sampling)\n",
    "        top_p=0.95,              # Aplica nucleus sampling (Top-P), acumulando até 95% de probabilidade\n",
    "        temperature=0.7,         # Controla a aleatoriedade (quanto menor, mais conservador)\n",
    "        repetition_penalty=1.2,  # Penaliza repetições para evitar respostas redundantes\n",
    "        num_return_sequences=1   # Gera apenas uma resposta\n",
    "    )\n",
    "\n",
    "    # Decodifica a resposta gerada de volta para string legível (removendo tokens especiais)\n",
    "    return tokenizer.decode(outputs[0], skip_special_tokens=True)\n"
   ]
  },
  {
   "cell_type": "markdown",
   "metadata": {},
   "source": [
    "💬 Etapa 3.3: Fazendo perguntas ao modelo treinado\n",
    "        \n",
    "        Abaixo, alguns exemplos reais testando o modelo com instruções típicas."
   ]
  },
  {
   "cell_type": "code",
   "execution_count": null,
   "metadata": {},
   "outputs": [],
   "source": [
    "print(responder(\"A máquina aceita cartão?\"))\n",
    "print(responder(\"Tem coca-cola?\"))\n",
    "print(responder(\"Se um turista usar a máquina, ele vai conseguir entender?\"))\n",
    "print(responder(\"Posso pagar com boleto?\"))\n",
    "print(responder(\"Quais são a forma de pagamento?\"))\n",
    "print(responder(\"Tem bebida com gás?\"))\n",
    "print(responder(\"Tem opção de refrigerante sem cafeína?\"))\n",
    "print(responder(\"O refrigerante não sai da máquina, como devo proceder?\"))\n",
    "print(responder(\"Qual telefone de suporte?\"))\n",
    "print(responder(\"Você tem laranja?\"))\n"
   ]
  },
  {
   "cell_type": "markdown",
   "metadata": {},
   "source": [
    "---\n",
    "\n",
    "## 🗂️ Parte 4: Construção do dataset\n",
    "\n",
    "Nesta seção, explicamos como foi construído o dataset utilizado no fine-tuning do modelo PTT5, focado na geração de respostas em português com base em instruções específicas.\n",
    "\n",
    "As etapas abaixo cobrem:\n",
    "\n",
    "- Estrutura das colunas (`topic`, `instruction`, `output`)\n",
    "- Estratégia de formulação das instruções e respostas\n",
    "- Geração e organização dos exemplos em CSV\n",
    "- Objetivo dos dados: simular interações reais com um chatbot\n",
    "\n",
    "> 🧠 A qualidade e variedade do dataset são fatores decisivos para o desempenho do modelo. Neste projeto, priorizamos instruções curtas, diretas e contextualizadas, refletindo situações reais de atendimento automatizado.\n"
   ]
  },
  {
   "cell_type": "markdown",
   "metadata": {},
   "source": [
    "🎯 4.1: Estratégia de construção dos exemplos\n",
    "\n",
    "> A partir de 5 perguntas humanas por tópico, você poderá gerar as 100 por tópico\n",
    "\n",
    "Para garantir a robustez e a naturalidade das respostas geradas pelo modelo, cada tópico do dataset foi estruturado com 100 exemplos balanceados em quatro categorias distintas:\n",
    "\n",
    "- **30 perguntas variadas com estrutura direta**, explorando diferentes formas de expressar a mesma intenção;\n",
    "- **20 perguntas com variações de estilo e contexto**, incluindo registros formais, informais e construções regionais;\n",
    "- **30 casos de erro, exceção ou negativa**, representando limitações reais do sistema (ex: produto indisponível, recurso inexistente);\n",
    "- **20 perguntas indiretas, curiosidades ou detalhes contextuais**, que exigem inferência semântica ou compreensão mais sutil.\n",
    "\n",
    "O conjunto total abrange **11 tópicos específicos** relacionados ao funcionamento da máquina de venda: `sabores`, `acessibilidade`, `horário de funcionamento`, `idioma`, `promoções`, `contato`, `reembolso`, `falhas`, `uso da máquina`, `produtos` e `pagamento`.\n",
    "\n",
    "Essa abordagem visa simular interações autênticas com usuários em cenários reais, aumentando a capacidade do modelo de generalizar, recusar adequadamente e manter coerência mesmo diante de instruções incomuns ou incompletas.\n"
   ]
  },
  {
   "cell_type": "markdown",
   "metadata": {},
   "source": [
    "📌 4.1.1 Estratégia para gerar 30 perguntas variadas com estrutura diferente\n",
    "\n",
    "🎯 Objetivo: Gerar variações de forma (estrutura gramatical) mantendo a mesma intenção da pergunta.\n",
    "\n",
    "📦 Técnicas utilizadas:\n",
    "- Parafraseamento com modelos do Hugging Face\n",
    "- Geração de variações com backtranslation\n",
    "- Substituição por sinônimos com spaCy ou NLPAug\n",
    "\n",
    "🔧 Bibliotecas:\n",
    "- transformers\n",
    "- sentence-transformers\n",
    "- spaCy\n",
    "- nlpaug\n",
    "\n",
    "`Exemplo usando Hugging Face para parafrasear com um modelo pré-treinado`"
   ]
  },
  {
   "cell_type": "code",
   "execution_count": null,
   "metadata": {},
   "outputs": [],
   "source": [
    "from transformers import pipeline\n",
    "\n",
    "paraphraser = pipeline(\"text2text-generation\", model=\"Vamsi/T5-paraphraser\")\n",
    "\n",
    "pergunta_original = \"Quais são os sabores disponíveis?\"\n",
    "variacoes = paraphraser(f\"paraphrase: {pergunta_original} </s>\", max_length=64, num_return_sequences=5, do_sample=True)\n",
    "\n",
    "for v in variacoes:\n",
    "    print(\"-\", v['generated_text'])"
   ]
  },
  {
   "cell_type": "markdown",
   "metadata": {},
   "source": [
    "✍️ 4.1.2 Estratégia para gerar 20 perguntas com variações de estilo e contexto\n",
    "\n",
    "🎯 Objetivo: Criar versões formais, informais e regionais da mesma pergunta.\n",
    "\n",
    "📦 Técnicas utilizadas:\n",
    "- Substituição lexical com dicionários (gírias, formalismos)\n",
    "- Reescrita com regras baseadas em regex ou spaCy\n",
    "- Augmenters com estilo (ex: informal/texting)\n",
    "\n",
    "🔧 Bibliotecas:\n",
    "- nlpaug (contextualWordEmbs + synonym)\n",
    "- pandas + regex + substituições manuais\n",
    "\n",
    "`Exemplo simples: troca informal-formal via regras`"
   ]
  },
  {
   "cell_type": "code",
   "execution_count": null,
   "metadata": {},
   "outputs": [],
   "source": [
    "pergunta = \"Cês têm suco de uva?\"\n",
    "\n",
    "substituicoes = {\n",
    "    \"cês\": \"vocês\",\n",
    "    \"tem\": \"têm\",\n",
    "    \"suco\": \"bebida\",\n",
    "}\n",
    "\n",
    "for g in substituicoes:\n",
    "    pergunta = pergunta.replace(g, substituicoes[g])\n",
    "\n",
    "print(\"Formal:\", pergunta)"
   ]
  },
  {
   "cell_type": "markdown",
   "metadata": {},
   "source": [
    "❌ 4.1.3 Estratégia para gerar 30 exemplos de erro, exceção ou negativa\n",
    "\n",
    "🎯 Objetivo: Criar perguntas sobre limitações do sistema e situações em que o chatbot deve negar ou informar falha.\n",
    "\n",
    "📦 Estratégias:\n",
    "- Adição de elementos de falha: \"e se não funcionar?\", \"e se acabar o produto?\"\n",
    "- Combinação com palavras-chave negativas: \"não\", \"acabou\", \"quebrado\"\n",
    "- Geração por padrão com templates de exceção\n",
    "\n",
    "🔧 Técnicas:\n",
    "- Template-based generation com variações programáticas\n",
    "- Controle por palavras-chave\n",
    "\n",
    "`Gerador simples de perguntas negativas`"
   ]
  },
  {
   "cell_type": "code",
   "execution_count": null,
   "metadata": {},
   "outputs": [],
   "source": [
    "\n",
    "produto = \"limonada\"\n",
    "templates = [\n",
    "    f\"E se acabar a {produto}?\",\n",
    "    f\"O que acontece se a máquina travar na hora da {produto}?\",\n",
    "    f\"A máquina avisa quando não tem mais {produto}?\",\n",
    "    f\"A máquina pode errar o sabor da {produto}?\",\n",
    "    f\"Posso pedir reembolso se a {produto} não sair?\",\n",
    "]\n",
    "\n",
    "for p in templates:\n",
    "    print(\"-\", p)"
   ]
  },
  {
   "cell_type": "markdown",
   "metadata": {},
   "source": [
    "💡 4.1.4 Estratégia para gerar 20 perguntas indiretas, curiosas ou contextuais\n",
    "\n",
    "🎯 Objetivo: Criar perguntas que não pedem algo diretamente, mas fazem referência contextual, emocional ou hipotética.\n",
    "\n",
    "📦 Estratégias:\n",
    "- Geração com prompts do tipo \"E se...?\", \"Será que...?\", \"Qual é o melhor para...\"\n",
    "- Uso de sentenças interrogativas abertas\n",
    "- Inspiração em FAQs, experiências de usuários reais\n",
    "\n",
    "🔧 Técnicas:\n",
    "- Manual com apoio de GPT ou modelo instruído\n",
    "- Criação de padrões com linguagem subjetiva\n",
    "\n",
    "🔧 Bibliotecas:\n",
    "- transformers (para gerar exemplos a partir de poucos prompts)"
   ]
  },
  {
   "cell_type": "code",
   "execution_count": null,
   "metadata": {},
   "outputs": [],
   "source": [
    "from transformers import pipeline\n",
    "\n",
    "generator = pipeline(\"text-generation\", model=\"tiiuae/falcon-7b-instruct\", max_length=60)\n",
    "\n",
    "prompt = \"E se eu esquecer a carteira na hora de pagar?\"\n",
    "resposta = generator(prompt, do_sample=True, top_p=0.9, temperature=0.7, num_return_sequences=3)\n",
    "\n",
    "for r in resposta:\n",
    "    print(\"-\", r[\"generated_text\"])"
   ]
  }
 ],
 "metadata": {
  "kernelspec": {
   "display_name": "chatbox",
   "language": "python",
   "name": "python3"
  },
  "language_info": {
   "codemirror_mode": {
    "name": "ipython",
    "version": 3
   },
   "file_extension": ".py",
   "mimetype": "text/x-python",
   "name": "python",
   "nbconvert_exporter": "python",
   "pygments_lexer": "ipython3",
   "version": "3.9.21"
  }
 },
 "nbformat": 4,
 "nbformat_minor": 2
}
